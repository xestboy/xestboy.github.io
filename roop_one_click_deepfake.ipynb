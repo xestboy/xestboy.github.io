{
  "cells": [
    {
      "cell_type": "markdown",
      "metadata": {
        "id": "view-in-github",
        "colab_type": "text"
      },
      "source": [
        "<a href=\"https://colab.research.google.com/github/xestboy/xestboy.github.io/blob/master/roop_one_click_deepfake.ipynb\" target=\"_parent\"><img src=\"https://colab.research.google.com/assets/colab-badge.svg\" alt=\"Open In Colab\"/></a>"
      ]
    },
    {
      "cell_type": "markdown",
      "metadata": {
        "id": "D3L8Lkyj-5gl"
      },
      "source": [
        "#Clone roop repo and install dependencies"
      ]
    },
    {
      "cell_type": "code",
      "execution_count": null,
      "metadata": {
        "id": "0aHr4Fo-7IRy"
      },
      "outputs": [],
      "source": [
        "!git clone https://github.com/s0md3v/roop.git\n",
        "%cd roop\n",
        "!pip install -r requirements.txt"
      ]
    },
    {
      "cell_type": "markdown",
      "metadata": {
        "id": "jl9zIFZYGWTQ"
      },
      "source": [
        "#download model"
      ]
    },
    {
      "cell_type": "code",
      "execution_count": null,
      "metadata": {
        "id": "UQH2exUYGTbK"
      },
      "outputs": [],
      "source": [
        "!wget https://huggingface.co/ezioruan/inswapper_128.onnx/resolve/main/inswapper_128.onnx -O inswapper_128.onnx\n",
        "!mkdir models\n",
        "!mv inswapper_128.onnx ./models"
      ]
    },
    {
      "cell_type": "markdown",
      "metadata": {
        "id": "nCKli1C-_EaO"
      },
      "source": [
        "#Deepfake"
      ]
    },
    {
      "cell_type": "code",
      "execution_count": null,
      "metadata": {
        "id": "lDYdfL3L71i1"
      },
      "outputs": [],
      "source": [
        "!python run.py --target /content/video.mp4 --output-video-quality 10 --source /content/faces.png -o /content/swapped.mp4 --execution-provider cuda --frame-processor face_swapper face_enhancer"
      ]
    }
  ],
  "metadata": {
    "accelerator": "GPU",
    "colab": {
      "provenance": [],
      "include_colab_link": true
    },
    "kernelspec": {
      "display_name": "Python 3",
      "name": "python3"
    },
    "language_info": {
      "name": "python"
    }
  },
  "nbformat": 4,
  "nbformat_minor": 0
}